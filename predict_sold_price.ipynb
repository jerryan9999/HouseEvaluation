{
 "cells": [
  {
   "cell_type": "markdown",
   "metadata": {
    "deletable": true,
    "editable": true
   },
   "source": [
    "# Linear Regression to predict house value"
   ]
  },
  {
   "cell_type": "markdown",
   "metadata": {
    "deletable": true,
    "editable": true
   },
   "source": [
    "## Preliminaries\n"
   ]
  },
  {
   "cell_type": "code",
   "execution_count": 13,
   "metadata": {
    "collapsed": false,
    "deletable": true,
    "editable": true
   },
   "outputs": [],
   "source": [
    "# load libraries\n",
    "from sklearn.linear_model import LinearRegression\n",
    "from sklearn.ensemble import RandomForestRegressor\n",
    "import warnings\n",
    "import pandas as pd\n",
    "from datetime import date\n",
    "from sklearn.model_selection import train_test_split\n",
    "from sklearn.dummy import DummyRegressor\n",
    "import numpy as np\n",
    "\n",
    "# Suppress Warning\n",
    "warnings.filterwarnings(action=\"ignore\", module=\"scipy\", message=\"^internal gelsd\")"
   ]
  },
  {
   "cell_type": "markdown",
   "metadata": {
    "deletable": true,
    "editable": true
   },
   "source": [
    "## Load housing dataset"
   ]
  },
  {
   "cell_type": "code",
   "execution_count": 23,
   "metadata": {
    "collapsed": false,
    "deletable": true,
    "editable": true
   },
   "outputs": [],
   "source": [
    "# Load data\n",
    "#df = pd.read_csv(\"recent_sold_82362491.csv\",parse_dates=['date'])\n",
    "#df = pd.read_csv(\"recent_sold_46315662.csv\",parse_dates=['date'])\n",
    "df = pd.read_csv(\"recent_sold_97994816.csv\",parse_dates=['date'])\n",
    "#df = pd.read_csv(\"recent_sold_68480953.csv\",parse_dates=['date'])"
   ]
  },
  {
   "cell_type": "markdown",
   "metadata": {
    "deletable": true,
    "editable": true
   },
   "source": [
    "# Pre-precess"
   ]
  },
  {
   "cell_type": "code",
   "execution_count": 24,
   "metadata": {
    "collapsed": false,
    "deletable": true,
    "editable": true
   },
   "outputs": [],
   "source": [
    "# add one column: days untill today\n",
    "today = pd.Timestamp(date.today().isoformat())\n",
    "df['days_till_today'] = (today - df['date']).dt.days"
   ]
  },
  {
   "cell_type": "code",
   "execution_count": 25,
   "metadata": {
    "collapsed": false,
    "deletable": true,
    "editable": true
   },
   "outputs": [
    {
     "data": {
      "text/html": [
       "<div>\n",
       "<style>\n",
       "    .dataframe thead tr:only-child th {\n",
       "        text-align: right;\n",
       "    }\n",
       "\n",
       "    .dataframe thead th {\n",
       "        text-align: left;\n",
       "    }\n",
       "\n",
       "    .dataframe tbody tr th {\n",
       "        vertical-align: top;\n",
       "    }\n",
       "</style>\n",
       "<table border=\"1\" class=\"dataframe\">\n",
       "  <thead>\n",
       "    <tr style=\"text-align: right;\">\n",
       "      <th></th>\n",
       "      <th>bed</th>\n",
       "      <th>bath</th>\n",
       "      <th>sqft</th>\n",
       "      <th>date</th>\n",
       "      <th>sold_price</th>\n",
       "      <th>days_till_today</th>\n",
       "    </tr>\n",
       "  </thead>\n",
       "  <tbody>\n",
       "    <tr>\n",
       "      <th>0</th>\n",
       "      <td>4</td>\n",
       "      <td>3.0</td>\n",
       "      <td>2200</td>\n",
       "      <td>2017-12-09</td>\n",
       "      <td>184000</td>\n",
       "      <td>187</td>\n",
       "    </tr>\n",
       "    <tr>\n",
       "      <th>1</th>\n",
       "      <td>3</td>\n",
       "      <td>2.5</td>\n",
       "      <td>1900</td>\n",
       "      <td>2017-10-17</td>\n",
       "      <td>191313</td>\n",
       "      <td>240</td>\n",
       "    </tr>\n",
       "    <tr>\n",
       "      <th>2</th>\n",
       "      <td>4</td>\n",
       "      <td>3.0</td>\n",
       "      <td>1993</td>\n",
       "      <td>2018-02-28</td>\n",
       "      <td>194500</td>\n",
       "      <td>106</td>\n",
       "    </tr>\n",
       "    <tr>\n",
       "      <th>3</th>\n",
       "      <td>3</td>\n",
       "      <td>3.0</td>\n",
       "      <td>1960</td>\n",
       "      <td>2017-11-14</td>\n",
       "      <td>197149</td>\n",
       "      <td>212</td>\n",
       "    </tr>\n",
       "    <tr>\n",
       "      <th>4</th>\n",
       "      <td>3</td>\n",
       "      <td>3.0</td>\n",
       "      <td>2008</td>\n",
       "      <td>2017-07-14</td>\n",
       "      <td>198000</td>\n",
       "      <td>335</td>\n",
       "    </tr>\n",
       "    <tr>\n",
       "      <th>5</th>\n",
       "      <td>3</td>\n",
       "      <td>3.0</td>\n",
       "      <td>1848</td>\n",
       "      <td>2017-09-26</td>\n",
       "      <td>200000</td>\n",
       "      <td>261</td>\n",
       "    </tr>\n",
       "    <tr>\n",
       "      <th>6</th>\n",
       "      <td>3</td>\n",
       "      <td>2.5</td>\n",
       "      <td>1900</td>\n",
       "      <td>2017-12-20</td>\n",
       "      <td>200722</td>\n",
       "      <td>176</td>\n",
       "    </tr>\n",
       "    <tr>\n",
       "      <th>7</th>\n",
       "      <td>4</td>\n",
       "      <td>2.5</td>\n",
       "      <td>1889</td>\n",
       "      <td>2017-12-14</td>\n",
       "      <td>202000</td>\n",
       "      <td>182</td>\n",
       "    </tr>\n",
       "    <tr>\n",
       "      <th>8</th>\n",
       "      <td>4</td>\n",
       "      <td>3.0</td>\n",
       "      <td>2450</td>\n",
       "      <td>2017-07-31</td>\n",
       "      <td>203000</td>\n",
       "      <td>318</td>\n",
       "    </tr>\n",
       "    <tr>\n",
       "      <th>9</th>\n",
       "      <td>4</td>\n",
       "      <td>3.0</td>\n",
       "      <td>2345</td>\n",
       "      <td>2017-10-10</td>\n",
       "      <td>209394</td>\n",
       "      <td>247</td>\n",
       "    </tr>\n",
       "    <tr>\n",
       "      <th>10</th>\n",
       "      <td>4</td>\n",
       "      <td>2.0</td>\n",
       "      <td>2194</td>\n",
       "      <td>2018-03-16</td>\n",
       "      <td>212000</td>\n",
       "      <td>90</td>\n",
       "    </tr>\n",
       "    <tr>\n",
       "      <th>11</th>\n",
       "      <td>3</td>\n",
       "      <td>3.0</td>\n",
       "      <td>1848</td>\n",
       "      <td>2018-04-18</td>\n",
       "      <td>215000</td>\n",
       "      <td>57</td>\n",
       "    </tr>\n",
       "    <tr>\n",
       "      <th>12</th>\n",
       "      <td>4</td>\n",
       "      <td>2.5</td>\n",
       "      <td>2200</td>\n",
       "      <td>2017-10-16</td>\n",
       "      <td>217743</td>\n",
       "      <td>241</td>\n",
       "    </tr>\n",
       "    <tr>\n",
       "      <th>13</th>\n",
       "      <td>4</td>\n",
       "      <td>3.0</td>\n",
       "      <td>2240</td>\n",
       "      <td>2017-08-24</td>\n",
       "      <td>217812</td>\n",
       "      <td>294</td>\n",
       "    </tr>\n",
       "    <tr>\n",
       "      <th>14</th>\n",
       "      <td>4</td>\n",
       "      <td>3.0</td>\n",
       "      <td>2638</td>\n",
       "      <td>2018-02-12</td>\n",
       "      <td>229000</td>\n",
       "      <td>122</td>\n",
       "    </tr>\n",
       "  </tbody>\n",
       "</table>\n",
       "</div>"
      ],
      "text/plain": [
       "    bed  bath  sqft       date  sold_price  days_till_today\n",
       "0     4   3.0  2200 2017-12-09      184000              187\n",
       "1     3   2.5  1900 2017-10-17      191313              240\n",
       "2     4   3.0  1993 2018-02-28      194500              106\n",
       "3     3   3.0  1960 2017-11-14      197149              212\n",
       "4     3   3.0  2008 2017-07-14      198000              335\n",
       "5     3   3.0  1848 2017-09-26      200000              261\n",
       "6     3   2.5  1900 2017-12-20      200722              176\n",
       "7     4   2.5  1889 2017-12-14      202000              182\n",
       "8     4   3.0  2450 2017-07-31      203000              318\n",
       "9     4   3.0  2345 2017-10-10      209394              247\n",
       "10    4   2.0  2194 2018-03-16      212000               90\n",
       "11    3   3.0  1848 2018-04-18      215000               57\n",
       "12    4   2.5  2200 2017-10-16      217743              241\n",
       "13    4   3.0  2240 2017-08-24      217812              294\n",
       "14    4   3.0  2638 2018-02-12      229000              122"
      ]
     },
     "execution_count": 25,
     "metadata": {},
     "output_type": "execute_result"
    }
   ],
   "source": [
    "df.head(n=20)"
   ]
  },
  {
   "cell_type": "code",
   "execution_count": 26,
   "metadata": {
    "collapsed": false,
    "deletable": true,
    "editable": true
   },
   "outputs": [],
   "source": [
    "X = df[['bed','bath','sqft','days_till_today']].values\n",
    "y = df['sold_price'].values"
   ]
  },
  {
   "cell_type": "markdown",
   "metadata": {
    "deletable": true,
    "editable": true
   },
   "source": [
    "## Fit A linear Regression"
   ]
  },
  {
   "cell_type": "code",
   "execution_count": 27,
   "metadata": {
    "collapsed": false,
    "deletable": true,
    "editable": true
   },
   "outputs": [
    {
     "data": {
      "text/plain": [
       "0.3734089878661182"
      ]
     },
     "execution_count": 27,
     "metadata": {},
     "output_type": "execute_result"
    }
   ],
   "source": [
    "# Create linear regression\n",
    "regr = LinearRegression()\n",
    "\n",
    "# Fit the linear regression\n",
    "model = regr.fit(X,y)\n",
    "\n",
    "# caculate R square\n",
    "model.score(X,y)"
   ]
  },
  {
   "cell_type": "markdown",
   "metadata": {
    "deletable": true,
    "editable": true
   },
   "source": [
    "## Fit RandomForestRegressor"
   ]
  },
  {
   "cell_type": "code",
   "execution_count": 28,
   "metadata": {
    "collapsed": false,
    "deletable": true,
    "editable": true
   },
   "outputs": [
    {
     "data": {
      "text/plain": [
       "0.68261656123477832"
      ]
     },
     "execution_count": 28,
     "metadata": {},
     "output_type": "execute_result"
    }
   ],
   "source": [
    "# Create random forest regresion\n",
    "dfr = RandomForestRegressor(max_depth=3, random_state=0)\n",
    "\n",
    "# Fit the model\n",
    "model2 = dfr.fit(X,y)\n",
    "\n",
    "# caculate R square\n",
    "model2.score(X,y)"
   ]
  },
  {
   "cell_type": "markdown",
   "metadata": {
    "deletable": true,
    "editable": true
   },
   "source": [
    "## Predict"
   ]
  },
  {
   "cell_type": "code",
   "execution_count": 29,
   "metadata": {
    "collapsed": true,
    "deletable": true,
    "editable": true
   },
   "outputs": [],
   "source": [
    "# 82362491_zpid\n",
    "#X_house_point = np.array([[1,1,707,(today-pd.Timestamp('2018/06/10')).days],])\n",
    "\n",
    "# 46315662\n",
    "#X_house_point = np.array([[4,2,2215,(today-pd.Timestamp('2018/06/10')).days],])\n",
    "\n",
    "# 97994816\n",
    "X_house_point = np.array([[4,2,2265,(today-pd.Timestamp('2018/06/10')).days],])\n",
    "\n",
    "# 68480953\n",
    "#X_house_point = np.array([[2,2,1120,(today-pd.Timestamp('2018/06/10')).days],])"
   ]
  },
  {
   "cell_type": "code",
   "execution_count": 30,
   "metadata": {
    "collapsed": false,
    "deletable": true,
    "editable": true
   },
   "outputs": [
    {
     "data": {
      "text/plain": [
       "array([ 220208.34133236])"
      ]
     },
     "execution_count": 30,
     "metadata": {},
     "output_type": "execute_result"
    }
   ],
   "source": [
    "# linear regress predict\n",
    "model.predict(X_house_point)"
   ]
  },
  {
   "cell_type": "code",
   "execution_count": 31,
   "metadata": {
    "collapsed": false,
    "deletable": true,
    "editable": true
   },
   "outputs": [
    {
     "data": {
      "text/plain": [
       "array([ 214110.66666667])"
      ]
     },
     "execution_count": 31,
     "metadata": {},
     "output_type": "execute_result"
    }
   ],
   "source": [
    "# random forest predict\n",
    "model2.predict(X_house_point)"
   ]
  },
  {
   "cell_type": "code",
   "execution_count": null,
   "metadata": {
    "collapsed": true
   },
   "outputs": [],
   "source": []
  }
 ],
 "metadata": {
  "kernelspec": {
   "display_name": "Python 3",
   "language": "python",
   "name": "python3"
  },
  "language_info": {
   "codemirror_mode": {
    "name": "ipython",
    "version": 3
   },
   "file_extension": ".py",
   "mimetype": "text/x-python",
   "name": "python",
   "nbconvert_exporter": "python",
   "pygments_lexer": "ipython3",
   "version": "3.6.0"
  }
 },
 "nbformat": 4,
 "nbformat_minor": 2
}
